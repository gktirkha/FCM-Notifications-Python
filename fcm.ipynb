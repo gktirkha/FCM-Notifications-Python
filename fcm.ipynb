{
 "cells": [
  {
   "cell_type": "code",
   "execution_count": null,
   "metadata": {},
   "outputs": [],
   "source": [
    "import json\n",
    "import requests\n",
    "import google.auth.transport.requests\n",
    "\n",
    "from google.oauth2 import service_account\n",
    "# console projectID\n",
    "PROJECT_ID = 'notification-test-4e4ff'\n",
    "BASE_URL = 'https://fcm.googleapis.com'\n",
    "FCM_ENDPOINT = 'v1/projects/' + PROJECT_ID + '/messages:send'\n",
    "FCM_URL = BASE_URL + '/' + FCM_ENDPOINT\n",
    "SCOPES = ['https://www.googleapis.com/auth/firebase.messaging']\n",
    "\n",
    "\n",
    "def _get_access_token():\n",
    "    # download service-account.json from Firebase console\n",
    "    credentials = service_account.Credentials.from_service_account_file(\n",
    "        'service-account.json', scopes=SCOPES)\n",
    "    request = google.auth.transport.requests.Request()\n",
    "    credentials.refresh(request)\n",
    "    return credentials.token\n",
    "\n",
    "\n",
    "def _send_fcm_message(fcm_message):\n",
    "    headers = {\n",
    "        'Authorization': 'Bearer ' + _get_access_token(),\n",
    "        'Content-Type': 'application/json; UTF-8',\n",
    "    }\n",
    "    resp = requests.post(FCM_URL, data=json.dumps(\n",
    "        fcm_message), headers=headers)\n",
    "\n",
    "    if resp.status_code == 200:\n",
    "        print('Message sent to Firebase for delivery, response:')\n",
    "        print(resp.text)\n",
    "    else:\n",
    "        print('Unable to send message to Firebase')\n",
    "        print(resp.text)\n",
    "\n",
    "\n",
    "def main():\n",
    "    fcm_message = {\n",
    "        \"message\": {\n",
    "            \"token\": \"\",  # FCM Token Here\n",
    "            \"data\": {\n",
    "                \"title\": \"FCM Message\",\n",
    "                \"body\": \"hello\",\n",
    "                \"route\": \"/screen3\"\n",
    "            },\n",
    "        }\n",
    "\n",
    "    }\n",
    "    _send_fcm_message(fcm_message)\n",
    "\n",
    "\n",
    "if __name__ == '__main__':\n",
    "    main()\n"
   ]
  }
 ],
 "metadata": {
  "kernelspec": {
   "display_name": "Python 3",
   "language": "python",
   "name": "python3"
  },
  "language_info": {
   "codemirror_mode": {
    "name": "ipython",
    "version": 3
   },
   "file_extension": ".py",
   "mimetype": "text/x-python",
   "name": "python",
   "nbconvert_exporter": "python",
   "pygments_lexer": "ipython3",
   "version": "3.10.6"
  },
  "orig_nbformat": 4
 },
 "nbformat": 4,
 "nbformat_minor": 2
}
